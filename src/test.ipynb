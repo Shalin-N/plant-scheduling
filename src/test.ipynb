{
 "cells": [
  {
   "cell_type": "code",
   "execution_count": 328,
   "metadata": {},
   "outputs": [
    {
     "data": {
      "text/plain": [
       "\"../data/simple\""
      ]
     },
     "metadata": {},
     "output_type": "display_data"
    }
   ],
   "source": [
    "using JuMP, Gurobi, JSON, DataFrames\n",
    "# JuMP v1.13.0\n",
    "# Julia v1.8.5\n",
    "# Gurobi v1.0.2\n",
    "# JSON v0.21.4\n",
    "# DataFrame v1.5.0\n",
    "\n",
    "include(\"formatting.jl\")\n",
    "include(\"hueristic.jl\")\n",
    "include(\"import.jl\")\n",
    "include(\"model_relaxation.jl\")\n",
    "include(\"schedules.jl\")\n",
    "\n",
    "DATA_PATH = \"../data/simple\""
   ]
  },
  {
   "cell_type": "code",
   "execution_count": 329,
   "metadata": {},
   "outputs": [
    {
     "data": {
      "text/plain": [
       "Data(NamedTuple{(:name, :min_capacity, :max_capacity, :initial_volume, :rates, :flows, :type), Tuple{String, Int64, Int64, Int64, Vector{Any}, Vector{Any}, String}}[(name = \"silo1\", min_capacity = 0, max_capacity = 1000, initial_volume = 900, rates = [], flows = [\"machine1\"], type = \"storage\"), (name = \"silo3\", min_capacity = 0, max_capacity = 600, initial_volume = 300, rates = [], flows = [\"machine2\"], type = \"storage\"), (name = \"silo2\", min_capacity = 0, max_capacity = 500, initial_volume = 200, rates = [], flows = [\"machine1\", \"machine2\"], type = \"storage\"), (name = \"cleaner1\", min_capacity = 0, max_capacity = 1, initial_volume = 1, rates = [-1, -1], flows = [\"machine1\", \"machine2\"], type = \"renewable\")], NamedTuple{(:name, :initial_state, :initial_time, :run_time, :cleaning_time, :min_off_time, :max_off_time, :rates, :flows, :cleaner_key), Tuple{String, String, Int64, Int64, Int64, Int64, Int64, Vector{Any}, Vector{Any}, String}}[(name = \"machine2\", initial_state = \"on\", initial_time = 5, run_time = 7, cleaning_time = 3, min_off_time = 0, max_off_time = 3, rates = [-10, 20], flows = [\"silo2\", \"silo3\"], cleaner_key = \"cleaner1\"), (name = \"machine1\", initial_state = \"on\", initial_time = 5, run_time = 7, cleaning_time = 3, min_off_time = 0, max_off_time = 3, rates = [-5, 10], flows = [\"silo1\", \"silo2\"], cleaner_key = \"cleaner1\")], NamedTuple{(:current_state, :next_state, :duration_type, :duration_key, :min_duration_key, :max_duration_key, :include), Tuple{String, String, String, String, String, String, Bool}}[(current_state = \"off\", next_state = \"on\", duration_type = \"random_duration\", duration_key = \"NA\", min_duration_key = \"min_off_time\", max_duration_key = \"max_off_time\", include = 1), (current_state = \"idle\", next_state = \"cleaning\", duration_type = \"random_duration\", duration_key = \"NA\", min_duration_key = \"min_off_time\", max_duration_key = \"max_off_time\", include = 0), (current_state = \"on\", next_state = \"idle\", duration_type = \"fixed_duration\", duration_key = \"run_time\", min_duration_key = \"NA\", max_duration_key = \"NA\", include = 1), (current_state = \"cleaning\", next_state = \"off\", duration_type = \"fixed_duration\", duration_key = \"cleaning_time\", min_duration_key = \"NA\", max_duration_key = \"NA\", include = 1)], 15)"
      ]
     },
     "metadata": {},
     "output_type": "display_data"
    }
   ],
   "source": [
    "𝓓::Data = import_data(DATA_PATH, 15)"
   ]
  },
  {
   "cell_type": "code",
   "execution_count": 330,
   "metadata": {},
   "outputs": [
    {
     "name": "stdout",
     "output_type": "stream",
     "text": [
      "Dict{Any, Any}((\"machine1\", 1) => Any[state(\"on\", 2), state(\"idle\", 0), state(\"cleaning\", 3), state(\"off\", 2), state(\"on\", 7), state(\"idle\", 0), state(\"c"
     ]
    },
    {
     "name": "stdout",
     "output_type": "stream",
     "text": [
      "leaning\", 1)], (\"machine2\", 1) => Any[state(\"on\", 2), state(\"idle\", 0), state(\"cleaning\", 3), state(\"off\", 0), state(\"on\", 7), state(\"idle\", 0), state(\"cleaning\", 3)])\n"
     ]
    }
   ],
   "source": [
    "itteration = 1\n",
    "schedules_dict = generate_schedules_for_machines(𝓓, Dict(), itteration, true)\n",
    "println(schedules_dict)"
   ]
  },
  {
   "cell_type": "code",
   "execution_count": 331,
   "metadata": {},
   "outputs": [
    {
     "name": "stdout",
     "output_type": "stream",
     "text": [
      "on\n",
      "(state(\"on\", 3), 2)\n",
      "Any[\"on\", \"on\", \"cleaning\", \"cleaning\", \"cleaning\", \"on\", \"on\", \"on\", \"on\", \"on\", \"on\"]\n"
     ]
    }
   ],
   "source": [
    "test = Dict((\"machine1\", 1) => [state(\"off\", -1), state(\"on\", 3), state(\"idle\", 0), state(\"cleaning\", 3), state(\"off\", -1), state(\"on\", 7), state(\"temp\", 0)])\n",
    "\n",
    "println(find_machine_activity(test[\"machine1\", 1], 2))\n",
    "println(find_machine_state(test[\"machine1\", 1], 2))\n",
    "println(convert_to_tp_sequence(11, test[\"machine1\", 1]))"
   ]
  },
  {
   "cell_type": "code",
   "execution_count": 332,
   "metadata": {},
   "outputs": [
    {
     "name": "stdout",
     "output_type": "stream",
     "text": [
      "Set parameter Username\r\n",
      "Academic license - for non-commercial use only - expires 2024-05-07\r\n",
      "\n"
     ]
    }
   ],
   "source": [
    "𝓜, x, resource_volume, slack, dicts = build_model(𝓓, schedules_dict)\n",
    "println()"
   ]
  },
  {
   "cell_type": "code",
   "execution_count": 333,
   "metadata": {},
   "outputs": [],
   "source": [
    "# These are normalised constraints it is easier to think of it like:\n",
    "# resource_volume[1,silo1] == resource_volume[0,silo1] -5*machine1[1]\n",
    "# current_time_volume = previous_time_volume + rate_of_change_at_current_time*relevant_schedules_binary_variable\n",
    "# println(𝓜)"
   ]
  },
  {
   "cell_type": "code",
   "execution_count": 334,
   "metadata": {},
   "outputs": [
    {
     "name": "stdout",
     "output_type": "stream",
     "text": [
      "Gurobi Optimizer version 10.0.1 build v10.0.1rc0 (win64)\r\n",
      "\r\n",
      "CPU model: 11th Gen Intel(R) Core(TM) i5-1135G7 @ 2.40GHz, instruction set [SSE2|AVX|AVX2|AVX512]\r\n",
      "Thread count: 4 physical cores, 8 logical processors, using up to 8 threads\r\n",
      "\r\n",
      "Optimize a model with 306 rows, 186 columns and 637 nonzeros\r\n",
      "Model fingerprint: 0xcacebc1d\r\n",
      "Variable types: 184 continuous, 2 integer (2 binary)\r\n",
      "Coefficient statistics:\r\n",
      "  Matrix range     [1e+00, 2e+01]\r\n",
      "  Objective range  [1e+00, 1e+00]\r\n",
      "  Bounds range     [0e+00, 0e+00]\r\n",
      "  RHS range        [1e+00, 1e+03]\r\n",
      "Presolve removed 306 rows and 186 columns\r\n",
      "Presolve time: 0.00s\r\n",
      "Presolve: All rows and columns removed\r\n",
      "\r\n",
      "Explored 0 nodes (0 simplex iterations) in 0.00 seconds (0.00 work units)\r\n",
      "Thread count was 1 (of 8 available processors)\r\n",
      "\r\n",
      "Solution count 1: 4 \r\n",
      "\r\n",
      "Optimal solution found (tolerance 1.00e-04)\r\n",
      "Best objective 4.000000000000e+00, best bound 4.000000000000e+00, gap 0.0000%\r\n",
      "\r\n",
      "User-callback calls 304, time in user-callback 0.00 sec\r\n",
      "OPTIMAL\n"
     ]
    }
   ],
   "source": [
    "optimize!(𝓜)\n",
    "println(termination_status(𝓜))"
   ]
  },
  {
   "cell_type": "code",
   "execution_count": 335,
   "metadata": {},
   "outputs": [
    {
     "data": {
      "text/html": [
       "<div><div style = \"float: left;\"><span>16×11 DataFrame</span></div><div style = \"clear: both;\"></div></div><div class = \"data-frame\" style = \"overflow-x: scroll;\"><table class = \"data-frame\" style = \"margin-bottom: 6px;\"><thead><tr class = \"header\"><th class = \"rowNumber\" style = \"font-weight: bold; text-align: right;\">Row</th><th style = \"text-align: left;\">period</th><th style = \"text-align: left;\">silo1</th><th style = \"text-align: left;\">slack_silo1</th><th style = \"text-align: left;\">machine1</th><th style = \"text-align: left;\">silo2</th><th style = \"text-align: left;\">slack_silo2</th><th style = \"text-align: left;\">machine2</th><th style = \"text-align: left;\">silo3</th><th style = \"text-align: left;\">slack_silo3</th><th style = \"text-align: left;\">cleaner1</th><th style = \"text-align: left;\">slack_cleaner1</th></tr><tr class = \"subheader headerLastRow\"><th class = \"rowNumber\" style = \"font-weight: bold; text-align: right;\"></th><th title = \"Int64\" style = \"text-align: left;\">Int64</th><th title = \"Float64\" style = \"text-align: left;\">Float64</th><th title = \"Any\" style = \"text-align: left;\">Any</th><th title = \"Any\" style = \"text-align: left;\">Any</th><th title = \"Float64\" style = \"text-align: left;\">Float64</th><th title = \"Any\" style = \"text-align: left;\">Any</th><th title = \"Any\" style = \"text-align: left;\">Any</th><th title = \"Float64\" style = \"text-align: left;\">Float64</th><th title = \"Any\" style = \"text-align: left;\">Any</th><th title = \"Float64\" style = \"text-align: left;\">Float64</th><th title = \"Any\" style = \"text-align: left;\">Any</th></tr></thead><tbody><tr><td class = \"rowNumber\" style = \"font-weight: bold; text-align: right;\">1</td><td style = \"text-align: right;\">0</td><td style = \"text-align: right;\">900.0</td><td style = \"text-align: left;\"></td><td style = \"text-align: left;\"></td><td style = \"text-align: right;\">200.0</td><td style = \"text-align: left;\"></td><td style = \"text-align: left;\"></td><td style = \"text-align: right;\">300.0</td><td style = \"text-align: left;\"></td><td style = \"text-align: right;\">1.0</td><td style = \"text-align: left;\"></td></tr><tr><td class = \"rowNumber\" style = \"font-weight: bold; text-align: right;\">2</td><td style = \"text-align: right;\">1</td><td style = \"text-align: right;\">895.0</td><td style = \"text-align: left;\">0.0</td><td style = \"text-align: left;\">on</td><td style = \"text-align: right;\">200.0</td><td style = \"text-align: left;\">0.0</td><td style = \"text-align: left;\">on</td><td style = \"text-align: right;\">320.0</td><td style = \"text-align: left;\">0.0</td><td style = \"text-align: right;\">1.0</td><td style = \"text-align: left;\">0.0</td></tr><tr><td class = \"rowNumber\" style = \"font-weight: bold; text-align: right;\">3</td><td style = \"text-align: right;\">2</td><td style = \"text-align: right;\">890.0</td><td style = \"text-align: left;\">0.0</td><td style = \"text-align: left;\">on</td><td style = \"text-align: right;\">200.0</td><td style = \"text-align: left;\">0.0</td><td style = \"text-align: left;\">on</td><td style = \"text-align: right;\">340.0</td><td style = \"text-align: left;\">0.0</td><td style = \"text-align: right;\">1.0</td><td style = \"text-align: left;\">0.0</td></tr><tr><td class = \"rowNumber\" style = \"font-weight: bold; text-align: right;\">4</td><td style = \"text-align: right;\">3</td><td style = \"text-align: right;\">890.0</td><td style = \"text-align: left;\">0.0</td><td style = \"text-align: left;\">cleaning</td><td style = \"text-align: right;\">200.0</td><td style = \"text-align: left;\">0.0</td><td style = \"text-align: left;\">cleaning</td><td style = \"text-align: right;\">340.0</td><td style = \"text-align: left;\">0.0</td><td style = \"text-align: right;\">-1.0</td><td style = \"text-align: left;\">1.0</td></tr><tr><td class = \"rowNumber\" style = \"font-weight: bold; text-align: right;\">5</td><td style = \"text-align: right;\">4</td><td style = \"text-align: right;\">890.0</td><td style = \"text-align: left;\">0.0</td><td style = \"text-align: left;\">cleaning</td><td style = \"text-align: right;\">200.0</td><td style = \"text-align: left;\">0.0</td><td style = \"text-align: left;\">cleaning</td><td style = \"text-align: right;\">340.0</td><td style = \"text-align: left;\">0.0</td><td style = \"text-align: right;\">-1.0</td><td style = \"text-align: left;\">1.0</td></tr><tr><td class = \"rowNumber\" style = \"font-weight: bold; text-align: right;\">6</td><td style = \"text-align: right;\">5</td><td style = \"text-align: right;\">890.0</td><td style = \"text-align: left;\">0.0</td><td style = \"text-align: left;\">cleaning</td><td style = \"text-align: right;\">200.0</td><td style = \"text-align: left;\">0.0</td><td style = \"text-align: left;\">cleaning</td><td style = \"text-align: right;\">340.0</td><td style = \"text-align: left;\">0.0</td><td style = \"text-align: right;\">-1.0</td><td style = \"text-align: left;\">1.0</td></tr><tr><td class = \"rowNumber\" style = \"font-weight: bold; text-align: right;\">7</td><td style = \"text-align: right;\">6</td><td style = \"text-align: right;\">890.0</td><td style = \"text-align: left;\">0.0</td><td style = \"text-align: left;\">off</td><td style = \"text-align: right;\">190.0</td><td style = \"text-align: left;\">0.0</td><td style = \"text-align: left;\">on</td><td style = \"text-align: right;\">360.0</td><td style = \"text-align: left;\">0.0</td><td style = \"text-align: right;\">1.0</td><td style = \"text-align: left;\">0.0</td></tr><tr><td class = \"rowNumber\" style = \"font-weight: bold; text-align: right;\">8</td><td style = \"text-align: right;\">7</td><td style = \"text-align: right;\">890.0</td><td style = \"text-align: left;\">0.0</td><td style = \"text-align: left;\">off</td><td style = \"text-align: right;\">180.0</td><td style = \"text-align: left;\">0.0</td><td style = \"text-align: left;\">on</td><td style = \"text-align: right;\">380.0</td><td style = \"text-align: left;\">0.0</td><td style = \"text-align: right;\">1.0</td><td style = \"text-align: left;\">0.0</td></tr><tr><td class = \"rowNumber\" style = \"font-weight: bold; text-align: right;\">9</td><td style = \"text-align: right;\">8</td><td style = \"text-align: right;\">885.0</td><td style = \"text-align: left;\">0.0</td><td style = \"text-align: left;\">on</td><td style = \"text-align: right;\">180.0</td><td style = \"text-align: left;\">0.0</td><td style = \"text-align: left;\">on</td><td style = \"text-align: right;\">400.0</td><td style = \"text-align: left;\">0.0</td><td style = \"text-align: right;\">1.0</td><td style = \"text-align: left;\">0.0</td></tr><tr><td class = \"rowNumber\" style = \"font-weight: bold; text-align: right;\">10</td><td style = \"text-align: right;\">9</td><td style = \"text-align: right;\">880.0</td><td style = \"text-align: left;\">0.0</td><td style = \"text-align: left;\">on</td><td style = \"text-align: right;\">180.0</td><td style = \"text-align: left;\">0.0</td><td style = \"text-align: left;\">on</td><td style = \"text-align: right;\">420.0</td><td style = \"text-align: left;\">0.0</td><td style = \"text-align: right;\">1.0</td><td style = \"text-align: left;\">0.0</td></tr><tr><td class = \"rowNumber\" style = \"font-weight: bold; text-align: right;\">11</td><td style = \"text-align: right;\">10</td><td style = \"text-align: right;\">875.0</td><td style = \"text-align: left;\">0.0</td><td style = \"text-align: left;\">on</td><td style = \"text-align: right;\">180.0</td><td style = \"text-align: left;\">0.0</td><td style = \"text-align: left;\">on</td><td style = \"text-align: right;\">440.0</td><td style = \"text-align: left;\">0.0</td><td style = \"text-align: right;\">1.0</td><td style = \"text-align: left;\">0.0</td></tr><tr><td class = \"rowNumber\" style = \"font-weight: bold; text-align: right;\">12</td><td style = \"text-align: right;\">11</td><td style = \"text-align: right;\">870.0</td><td style = \"text-align: left;\">0.0</td><td style = \"text-align: left;\">on</td><td style = \"text-align: right;\">180.0</td><td style = \"text-align: left;\">0.0</td><td style = \"text-align: left;\">on</td><td style = \"text-align: right;\">460.0</td><td style = \"text-align: left;\">0.0</td><td style = \"text-align: right;\">1.0</td><td style = \"text-align: left;\">0.0</td></tr><tr><td class = \"rowNumber\" style = \"font-weight: bold; text-align: right;\">13</td><td style = \"text-align: right;\">12</td><td style = \"text-align: right;\">865.0</td><td style = \"text-align: left;\">0.0</td><td style = \"text-align: left;\">on</td><td style = \"text-align: right;\">180.0</td><td style = \"text-align: left;\">0.0</td><td style = \"text-align: left;\">on</td><td style = \"text-align: right;\">480.0</td><td style = \"text-align: left;\">0.0</td><td style = \"text-align: right;\">1.0</td><td style = \"text-align: left;\">0.0</td></tr><tr><td class = \"rowNumber\" style = \"font-weight: bold; text-align: right;\">14</td><td style = \"text-align: right;\">13</td><td style = \"text-align: right;\">860.0</td><td style = \"text-align: left;\">0.0</td><td style = \"text-align: left;\">on</td><td style = \"text-align: right;\">190.0</td><td style = \"text-align: left;\">0.0</td><td style = \"text-align: left;\">cleaning</td><td style = \"text-align: right;\">480.0</td><td style = \"text-align: left;\">0.0</td><td style = \"text-align: right;\">0.0</td><td style = \"text-align: left;\">0.0</td></tr><tr><td class = \"rowNumber\" style = \"font-weight: bold; text-align: right;\">15</td><td style = \"text-align: right;\">14</td><td style = \"text-align: right;\">855.0</td><td style = \"text-align: left;\">0.0</td><td style = \"text-align: left;\">on</td><td style = \"text-align: right;\">200.0</td><td style = \"text-align: left;\">0.0</td><td style = \"text-align: left;\">cleaning</td><td style = \"text-align: right;\">480.0</td><td style = \"text-align: left;\">0.0</td><td style = \"text-align: right;\">0.0</td><td style = \"text-align: left;\">0.0</td></tr><tr><td class = \"rowNumber\" style = \"font-weight: bold; text-align: right;\">16</td><td style = \"text-align: right;\">15</td><td style = \"text-align: right;\">855.0</td><td style = \"text-align: left;\">0.0</td><td style = \"text-align: left;\">cleaning</td><td style = \"text-align: right;\">200.0</td><td style = \"text-align: left;\">0.0</td><td style = \"text-align: left;\">cleaning</td><td style = \"text-align: right;\">480.0</td><td style = \"text-align: left;\">0.0</td><td style = \"text-align: right;\">-1.0</td><td style = \"text-align: left;\">1.0</td></tr></tbody></table></div>"
      ],
      "text/latex": [
       "\\begin{tabular}{r|ccccccccc}\n",
       "\t& period & silo1 & slack\\_silo1 & machine1 & silo2 & slack\\_silo2 & machine2 & silo3 & \\\\\n",
       "\t\\hline\n",
       "\t& Int64 & Float64 & Any & Any & Float64 & Any & Any & Float64 & \\\\\n",
       "\t\\hline\n",
       "\t1 & 0 & 900.0 &  &  & 200.0 &  &  & 300.0 & $\\dots$ \\\\\n",
       "\t2 & 1 & 895.0 & 0.0 & on & 200.0 & 0.0 & on & 320.0 & $\\dots$ \\\\\n",
       "\t3 & 2 & 890.0 & 0.0 & on & 200.0 & 0.0 & on & 340.0 & $\\dots$ \\\\\n",
       "\t4 & 3 & 890.0 & 0.0 & cleaning & 200.0 & 0.0 & cleaning & 340.0 & $\\dots$ \\\\\n",
       "\t5 & 4 & 890.0 & 0.0 & cleaning & 200.0 & 0.0 & cleaning & 340.0 & $\\dots$ \\\\\n",
       "\t6 & 5 & 890.0 & 0.0 & cleaning & 200.0 & 0.0 & cleaning & 340.0 & $\\dots$ \\\\\n",
       "\t7 & 6 & 890.0 & 0.0 & off & 190.0 & 0.0 & on & 360.0 & $\\dots$ \\\\\n",
       "\t8 & 7 & 890.0 & 0.0 & off & 180.0 & 0.0 & on & 380.0 & $\\dots$ \\\\\n",
       "\t9 & 8 & 885.0 & 0.0 & on & 180.0 & 0.0 & on & 400.0 & $\\dots$ \\\\\n",
       "\t10 & 9 & 880.0 & 0.0 & on & 180.0 & 0.0 & on & 420.0 & $\\dots$ \\\\\n",
       "\t11 & 10 & 875.0 & 0.0 & on & 180.0 & 0.0 & on & 440.0 & $\\dots$ \\\\\n",
       "\t12 & 11 & 870.0 & 0.0 & on & 180.0 & 0.0 & on & 460.0 & $\\dots$ \\\\\n",
       "\t13 & 12 & 865.0 & 0.0 & on & 180.0 & 0.0 & on & 480.0 & $\\dots$ \\\\\n",
       "\t14 & 13 & 860.0 & 0.0 & on & 190.0 & 0.0 & cleaning & 480.0 & $\\dots$ \\\\\n",
       "\t15 & 14 & 855.0 & 0.0 & on & 200.0 & 0.0 & cleaning & 480.0 & $\\dots$ \\\\\n",
       "\t16 & 15 & 855.0 & 0.0 & cleaning & 200.0 & 0.0 & cleaning & 480.0 & $\\dots$ \\\\\n",
       "\\end{tabular}\n"
      ],
      "text/plain": [
       "\u001b[1m16×11 DataFrame\u001b[0m\n",
       "\u001b[1m Row \u001b[0m│\u001b[1m period \u001b[0m\u001b[1m silo1   \u001b[0m\u001b[1m slack_silo1 \u001b[0m\u001b[1m machine1 \u001b[0m\u001b[1m silo2   \u001b[0m\u001b[1m slack_silo2 \u001b[0m\u001b[1m machine2 \u001b[0m\u001b[1m\u001b[0m ⋯\n",
       "     │\u001b[90m Int64  \u001b[0m\u001b[90m Float64 \u001b[0m\u001b[90m Any         \u001b[0m\u001b[90m Any      \u001b[0m\u001b[90m Float64 \u001b[0m\u001b[90m Any         \u001b[0m\u001b[90m Any      \u001b[0m\u001b[90m\u001b[0m ⋯\n",
       "─────┼──────────────────────────────────────────────────────────────────────────\n",
       "   1 │      0    900.0                           200.0                         ⋯\n",
       "   2 │      1    895.0  0.0          on          200.0  0.0          on\n",
       "   3 │      2    890.0  0.0          on          200.0  0.0          on\n",
       "   4 │      3    890.0  0.0          cleaning    200.0  0.0          cleaning\n",
       "   5 │      4    890.0  0.0          cleaning    200.0  0.0          cleaning  ⋯\n",
       "   6 │      5    890.0  0.0          cleaning    200.0  0.0          cleaning\n",
       "   7 │      6    890.0  0.0          off         190.0  0.0          on\n",
       "   8 │      7    890.0  0.0          off         180.0  0.0          on\n",
       "   9 │      8    885.0  0.0          on          180.0  0.0          on        ⋯\n",
       "  10 │      9    880.0  0.0          on          180.0  0.0          on\n",
       "  11 │     10    875.0  0.0          on          180.0  0.0          on\n",
       "  12 │     11    870.0  0.0          on          180.0  0.0          on\n",
       "  13 │     12    865.0  0.0          on          180.0  0.0          on        ⋯\n",
       "  14 │     13    860.0  0.0          on          190.0  0.0          cleaning\n",
       "  15 │     14    855.0  0.0          on          200.0  0.0          cleaning\n",
       "  16 │     15    855.0  0.0          cleaning    200.0  0.0          cleaning\n",
       "\u001b[36m                                                               4 columns omitted\u001b[0m"
      ]
     },
     "metadata": {},
     "output_type": "display_data"
    }
   ],
   "source": [
    "headers = [\"period\", \"silo1\", \"slack_silo1\", \"machine1\", \"silo2\", \"slack_silo2\", \"machine2\", \"silo3\", \n",
    "                                \"slack_silo3\", \"cleaner1\", \"slack_cleaner1\"]\n",
    "\n",
    "format_output(𝓓, 𝓜, resource_volume, slack, x, dicts, headers)"
   ]
  },
  {
   "cell_type": "code",
   "execution_count": 336,
   "metadata": {},
   "outputs": [
    {
     "name": "stdout",
     "output_type": "stream",
     "text": [
      "7\n",
      "7\n"
     ]
    },
    {
     "name": "stdout",
     "output_type": "stream",
     "text": [
      "Gurobi Optimizer version 10.0.1 build v10.0.1rc0 (win64)\r\n",
      "\r\n",
      "CPU model: 11th Gen Intel(R) Core(TM) i5-1135G7 @ 2.40GHz, instruction set [SSE2|AVX|AVX2|AVX512]\r\n",
      "Thread count: 4 physical cores, 8 logical processors, using up to 8 threads\r\n",
      "\r\n",
      "Optimize a model with 306 rows, 192 columns and 717 nonzeros\r\n",
      "Model fingerprint: 0x9f2876da\r\n",
      "Variable types: 184 continuous, 8 integer (8 binary)\r\n",
      "Coefficient statistics:\r\n",
      "  Matrix range     [1e+00, 2e+01]\r\n",
      "  Objective range  [1e+00, 1e+00]\r\n",
      "  Bounds range     [0e+00, 0e+00]\r\n",
      "  RHS range        [1e+00, 1e+03]\r\n",
      "\r\n",
      "MIP start from previous solve produced solution with objective 4 (0.00s)\r\n",
      "Loaded MIP start from previous solve with objective 4\r\n",
      "\r\n",
      "Presolve removed 291 rows and 180 columns\r\n",
      "Presolve time: 0.01s\r\n",
      "Presolved: 15 rows, 12 columns, 40 nonzeros\r\n",
      "Variable types: 6 continuous, 6 integer (5 binary)\r\n",
      "\r\n",
      "Root relaxation: objective 0.000000e+00, 3 iterations, 0.00 seconds (0.00 work units)\r\n",
      "\r\n",
      "    Nodes    |    Current Node    |     Objective Bounds      |     Work\r\n",
      " Expl Unexpl |  Obj  Depth IntInf | Incumbent    BestBd   Gap | It/Node Time\r\n",
      "\r\n",
      "*    0     0               0       0.0000000    0.00000  0.00%     -    0s\r\n",
      "\r\n",
      "Explored 1 nodes (3 simplex iterations) in 0.01 seconds (0.00 work units)\r\n",
      "Thread count was 8 (of 8 available processors)\r\n",
      "\r\n",
      "Solution count 2: 0 4 \r\n",
      "\r\n",
      "Optimal solution found (tolerance 1.00e-04)\r\n",
      "Best objective 0.000000000000e+00, best bound 0.000000000000e+00, gap 0.0000%\r\n",
      "\r\n",
      "User-callback calls 807, time in user-callback 0.00 sec\r\n"
     ]
    }
   ],
   "source": [
    "dicts.num_schedules_start = deepcopy(dicts.num_schedules_end)\n",
    "dicts.schedules, dicts.num_schedules_end = generate_schedules_using_next_decent(𝓓, dicts.schedules, dicts.num_schedules_end, slack, x)\n",
    "𝓜, dicts = update_model(𝓓, 𝓜, x, dicts)\n",
    "optimize!(𝓜)"
   ]
  },
  {
   "cell_type": "code",
   "execution_count": 337,
   "metadata": {},
   "outputs": [],
   "source": [
    "# investigating the .lp files for both methods (bug or workaround) the model seems to be almost identical\n",
    "# the only difference I can notice is the ordering \n",
    "# write_to_file(𝓜, \"bugFinder.lp\")"
   ]
  },
  {
   "cell_type": "code",
   "execution_count": 338,
   "metadata": {},
   "outputs": [
    {
     "name": "stdout",
     "output_type": "stream",
     "text": [
      "Gurobi Optimizer version 10.0.1 build v10.0.1rc0 (win64)\r\n",
      "\r\n",
      "CPU model: 11th Gen Intel(R) Core(TM) i5-1135G7 @ 2.40GHz, instruction set [SSE2|AVX|AVX2|AVX512]\r\n",
      "Thread count: 4 physical cores, 8 logical processors, using up to 8 threads\r\n",
      "\r\n",
      "Optimize a model with 306 rows, 192 columns and 717 nonzeros\r\n",
      "Model fingerprint: 0x9f2876da\r\n",
      "Variable types: 184 continuous, 8 integer (8 binary)\r\n",
      "Coefficient statistics:\r\n",
      "  Matrix range     [1e+00, 2e+01]\r\n",
      "  Objective range  [1e+00, 1e+00]\r\n",
      "  Bounds range     [0e+00, 0e+00]\r\n",
      "  RHS range        [1e+00, 1e+03]\r\n",
      "Presolved: 15 rows, 12 columns, 40 nonzeros\r\n",
      "\r\n",
      "Continuing optimization...\r\n",
      "\r\n",
      "\r\n",
      "Explored 1 nodes (3 simplex iterations) in 0.00 seconds (0.00 work units)\r\n",
      "Thread count was 8 (of 8 available processors)\r\n",
      "\r\n",
      "Solution count 2: 0 4 \r\n",
      "\r\n",
      "Optimal solution found (tolerance 1.00e-04)\r\n",
      "Best objective 0.000000000000e+00, best bound 0.000000000000e+00, gap 0.0000%\r\n",
      "\r\n",
      "User-callback calls 27, time in user-callback 0.00 sec\r\n",
      "OPTIMAL\n"
     ]
    }
   ],
   "source": [
    "optimize!(𝓜)\n",
    "println(termination_status(𝓜))"
   ]
  },
  {
   "cell_type": "code",
   "execution_count": 339,
   "metadata": {},
   "outputs": [],
   "source": [
    "# These constraint are what we expect to see (no matter whether we choose buggy method or not)\n",
    "# println(𝓜)"
   ]
  },
  {
   "cell_type": "code",
   "execution_count": 340,
   "metadata": {},
   "outputs": [
    {
     "data": {
      "text/html": [
       "<div><div style = \"float: left;\"><span>16×11 DataFrame</span></div><div style = \"clear: both;\"></div></div><div class = \"data-frame\" style = \"overflow-x: scroll;\"><table class = \"data-frame\" style = \"margin-bottom: 6px;\"><thead><tr class = \"header\"><th class = \"rowNumber\" style = \"font-weight: bold; text-align: right;\">Row</th><th style = \"text-align: left;\">period</th><th style = \"text-align: left;\">silo1</th><th style = \"text-align: left;\">slack_silo1</th><th style = \"text-align: left;\">machine1</th><th style = \"text-align: left;\">silo2</th><th style = \"text-align: left;\">slack_silo2</th><th style = \"text-align: left;\">machine2</th><th style = \"text-align: left;\">silo3</th><th style = \"text-align: left;\">slack_silo3</th><th style = \"text-align: left;\">cleaner1</th><th style = \"text-align: left;\">slack_cleaner1</th></tr><tr class = \"subheader headerLastRow\"><th class = \"rowNumber\" style = \"font-weight: bold; text-align: right;\"></th><th title = \"Int64\" style = \"text-align: left;\">Int64</th><th title = \"Float64\" style = \"text-align: left;\">Float64</th><th title = \"Any\" style = \"text-align: left;\">Any</th><th title = \"Any\" style = \"text-align: left;\">Any</th><th title = \"Float64\" style = \"text-align: left;\">Float64</th><th title = \"Any\" style = \"text-align: left;\">Any</th><th title = \"Any\" style = \"text-align: left;\">Any</th><th title = \"Float64\" style = \"text-align: left;\">Float64</th><th title = \"Any\" style = \"text-align: left;\">Any</th><th title = \"Float64\" style = \"text-align: left;\">Float64</th><th title = \"Any\" style = \"text-align: left;\">Any</th></tr></thead><tbody><tr><td class = \"rowNumber\" style = \"font-weight: bold; text-align: right;\">1</td><td style = \"text-align: right;\">0</td><td style = \"text-align: right;\">900.0</td><td style = \"text-align: left;\"></td><td style = \"text-align: left;\"></td><td style = \"text-align: right;\">200.0</td><td style = \"text-align: left;\"></td><td style = \"text-align: left;\"></td><td style = \"text-align: right;\">300.0</td><td style = \"text-align: left;\"></td><td style = \"text-align: right;\">1.0</td><td style = \"text-align: left;\"></td></tr><tr><td class = \"rowNumber\" style = \"font-weight: bold; text-align: right;\">2</td><td style = \"text-align: right;\">1</td><td style = \"text-align: right;\">895.0</td><td style = \"text-align: left;\">0.0</td><td style = \"text-align: left;\">on</td><td style = \"text-align: right;\">200.0</td><td style = \"text-align: left;\">0.0</td><td style = \"text-align: left;\">on</td><td style = \"text-align: right;\">320.0</td><td style = \"text-align: left;\">0.0</td><td style = \"text-align: right;\">1.0</td><td style = \"text-align: left;\">0.0</td></tr><tr><td class = \"rowNumber\" style = \"font-weight: bold; text-align: right;\">3</td><td style = \"text-align: right;\">2</td><td style = \"text-align: right;\">890.0</td><td style = \"text-align: left;\">0.0</td><td style = \"text-align: left;\">on</td><td style = \"text-align: right;\">200.0</td><td style = \"text-align: left;\">0.0</td><td style = \"text-align: left;\">on</td><td style = \"text-align: right;\">340.0</td><td style = \"text-align: left;\">0.0</td><td style = \"text-align: right;\">1.0</td><td style = \"text-align: left;\">0.0</td></tr><tr><td class = \"rowNumber\" style = \"font-weight: bold; text-align: right;\">4</td><td style = \"text-align: right;\">3</td><td style = \"text-align: right;\">890.0</td><td style = \"text-align: left;\">0.0</td><td style = \"text-align: left;\">cleaning</td><td style = \"text-align: right;\">200.0</td><td style = \"text-align: left;\">0.0</td><td style = \"text-align: left;\">idle</td><td style = \"text-align: right;\">340.0</td><td style = \"text-align: left;\">0.0</td><td style = \"text-align: right;\">0.0</td><td style = \"text-align: left;\">0.0</td></tr><tr><td class = \"rowNumber\" style = \"font-weight: bold; text-align: right;\">5</td><td style = \"text-align: right;\">4</td><td style = \"text-align: right;\">890.0</td><td style = \"text-align: left;\">0.0</td><td style = \"text-align: left;\">cleaning</td><td style = \"text-align: right;\">200.0</td><td style = \"text-align: left;\">0.0</td><td style = \"text-align: left;\">idle</td><td style = \"text-align: right;\">340.0</td><td style = \"text-align: left;\">0.0</td><td style = \"text-align: right;\">0.0</td><td style = \"text-align: left;\">0.0</td></tr><tr><td class = \"rowNumber\" style = \"font-weight: bold; text-align: right;\">6</td><td style = \"text-align: right;\">5</td><td style = \"text-align: right;\">890.0</td><td style = \"text-align: left;\">0.0</td><td style = \"text-align: left;\">cleaning</td><td style = \"text-align: right;\">200.0</td><td style = \"text-align: left;\">0.0</td><td style = \"text-align: left;\">idle</td><td style = \"text-align: right;\">340.0</td><td style = \"text-align: left;\">0.0</td><td style = \"text-align: right;\">0.0</td><td style = \"text-align: left;\">0.0</td></tr><tr><td class = \"rowNumber\" style = \"font-weight: bold; text-align: right;\">7</td><td style = \"text-align: right;\">6</td><td style = \"text-align: right;\">890.0</td><td style = \"text-align: left;\">0.0</td><td style = \"text-align: left;\">off</td><td style = \"text-align: right;\">200.0</td><td style = \"text-align: left;\">0.0</td><td style = \"text-align: left;\">cleaning</td><td style = \"text-align: right;\">340.0</td><td style = \"text-align: left;\">0.0</td><td style = \"text-align: right;\">0.0</td><td style = \"text-align: left;\">0.0</td></tr><tr><td class = \"rowNumber\" style = \"font-weight: bold; text-align: right;\">8</td><td style = \"text-align: right;\">7</td><td style = \"text-align: right;\">890.0</td><td style = \"text-align: left;\">0.0</td><td style = \"text-align: left;\">off</td><td style = \"text-align: right;\">200.0</td><td style = \"text-align: left;\">0.0</td><td style = \"text-align: left;\">cleaning</td><td style = \"text-align: right;\">340.0</td><td style = \"text-align: left;\">0.0</td><td style = \"text-align: right;\">0.0</td><td style = \"text-align: left;\">0.0</td></tr><tr><td class = \"rowNumber\" style = \"font-weight: bold; text-align: right;\">9</td><td style = \"text-align: right;\">8</td><td style = \"text-align: right;\">890.0</td><td style = \"text-align: left;\">0.0</td><td style = \"text-align: left;\">off</td><td style = \"text-align: right;\">200.0</td><td style = \"text-align: left;\">0.0</td><td style = \"text-align: left;\">cleaning</td><td style = \"text-align: right;\">340.0</td><td style = \"text-align: left;\">0.0</td><td style = \"text-align: right;\">0.0</td><td style = \"text-align: left;\">0.0</td></tr><tr><td class = \"rowNumber\" style = \"font-weight: bold; text-align: right;\">10</td><td style = \"text-align: right;\">9</td><td style = \"text-align: right;\">890.0</td><td style = \"text-align: left;\">0.0</td><td style = \"text-align: left;\">off</td><td style = \"text-align: right;\">190.0</td><td style = \"text-align: left;\">0.0</td><td style = \"text-align: left;\">on</td><td style = \"text-align: right;\">360.0</td><td style = \"text-align: left;\">0.0</td><td style = \"text-align: right;\">1.0</td><td style = \"text-align: left;\">0.0</td></tr><tr><td class = \"rowNumber\" style = \"font-weight: bold; text-align: right;\">11</td><td style = \"text-align: right;\">10</td><td style = \"text-align: right;\">890.0</td><td style = \"text-align: left;\">0.0</td><td style = \"text-align: left;\">off</td><td style = \"text-align: right;\">180.0</td><td style = \"text-align: left;\">0.0</td><td style = \"text-align: left;\">on</td><td style = \"text-align: right;\">380.0</td><td style = \"text-align: left;\">0.0</td><td style = \"text-align: right;\">1.0</td><td style = \"text-align: left;\">0.0</td></tr><tr><td class = \"rowNumber\" style = \"font-weight: bold; text-align: right;\">12</td><td style = \"text-align: right;\">11</td><td style = \"text-align: right;\">885.0</td><td style = \"text-align: left;\">0.0</td><td style = \"text-align: left;\">on</td><td style = \"text-align: right;\">180.0</td><td style = \"text-align: left;\">0.0</td><td style = \"text-align: left;\">on</td><td style = \"text-align: right;\">400.0</td><td style = \"text-align: left;\">0.0</td><td style = \"text-align: right;\">1.0</td><td style = \"text-align: left;\">0.0</td></tr><tr><td class = \"rowNumber\" style = \"font-weight: bold; text-align: right;\">13</td><td style = \"text-align: right;\">12</td><td style = \"text-align: right;\">880.0</td><td style = \"text-align: left;\">0.0</td><td style = \"text-align: left;\">on</td><td style = \"text-align: right;\">180.0</td><td style = \"text-align: left;\">0.0</td><td style = \"text-align: left;\">on</td><td style = \"text-align: right;\">420.0</td><td style = \"text-align: left;\">0.0</td><td style = \"text-align: right;\">1.0</td><td style = \"text-align: left;\">0.0</td></tr><tr><td class = \"rowNumber\" style = \"font-weight: bold; text-align: right;\">14</td><td style = \"text-align: right;\">13</td><td style = \"text-align: right;\">875.0</td><td style = \"text-align: left;\">0.0</td><td style = \"text-align: left;\">on</td><td style = \"text-align: right;\">190.0</td><td style = \"text-align: left;\">0.0</td><td style = \"text-align: left;\">cleaning</td><td style = \"text-align: right;\">420.0</td><td style = \"text-align: left;\">0.0</td><td style = \"text-align: right;\">0.0</td><td style = \"text-align: left;\">0.0</td></tr><tr><td class = \"rowNumber\" style = \"font-weight: bold; text-align: right;\">15</td><td style = \"text-align: right;\">14</td><td style = \"text-align: right;\">870.0</td><td style = \"text-align: left;\">0.0</td><td style = \"text-align: left;\">on</td><td style = \"text-align: right;\">200.0</td><td style = \"text-align: left;\">0.0</td><td style = \"text-align: left;\">cleaning</td><td style = \"text-align: right;\">420.0</td><td style = \"text-align: left;\">0.0</td><td style = \"text-align: right;\">0.0</td><td style = \"text-align: left;\">0.0</td></tr><tr><td class = \"rowNumber\" style = \"font-weight: bold; text-align: right;\">16</td><td style = \"text-align: right;\">15</td><td style = \"text-align: right;\">865.0</td><td style = \"text-align: left;\">0.0</td><td style = \"text-align: left;\">on</td><td style = \"text-align: right;\">210.0</td><td style = \"text-align: left;\">0.0</td><td style = \"text-align: left;\">cleaning</td><td style = \"text-align: right;\">420.0</td><td style = \"text-align: left;\">0.0</td><td style = \"text-align: right;\">0.0</td><td style = \"text-align: left;\">0.0</td></tr></tbody></table></div>"
      ],
      "text/latex": [
       "\\begin{tabular}{r|ccccccccc}\n",
       "\t& period & silo1 & slack\\_silo1 & machine1 & silo2 & slack\\_silo2 & machine2 & silo3 & \\\\\n",
       "\t\\hline\n",
       "\t& Int64 & Float64 & Any & Any & Float64 & Any & Any & Float64 & \\\\\n",
       "\t\\hline\n",
       "\t1 & 0 & 900.0 &  &  & 200.0 &  &  & 300.0 & $\\dots$ \\\\\n",
       "\t2 & 1 & 895.0 & 0.0 & on & 200.0 & 0.0 & on & 320.0 & $\\dots$ \\\\\n",
       "\t3 & 2 & 890.0 & 0.0 & on & 200.0 & 0.0 & on & 340.0 & $\\dots$ \\\\\n",
       "\t4 & 3 & 890.0 & 0.0 & cleaning & 200.0 & 0.0 & idle & 340.0 & $\\dots$ \\\\\n",
       "\t5 & 4 & 890.0 & 0.0 & cleaning & 200.0 & 0.0 & idle & 340.0 & $\\dots$ \\\\\n",
       "\t6 & 5 & 890.0 & 0.0 & cleaning & 200.0 & 0.0 & idle & 340.0 & $\\dots$ \\\\\n",
       "\t7 & 6 & 890.0 & 0.0 & off & 200.0 & 0.0 & cleaning & 340.0 & $\\dots$ \\\\\n",
       "\t8 & 7 & 890.0 & 0.0 & off & 200.0 & 0.0 & cleaning & 340.0 & $\\dots$ \\\\\n",
       "\t9 & 8 & 890.0 & 0.0 & off & 200.0 & 0.0 & cleaning & 340.0 & $\\dots$ \\\\\n",
       "\t10 & 9 & 890.0 & 0.0 & off & 190.0 & 0.0 & on & 360.0 & $\\dots$ \\\\\n",
       "\t11 & 10 & 890.0 & 0.0 & off & 180.0 & 0.0 & on & 380.0 & $\\dots$ \\\\\n",
       "\t12 & 11 & 885.0 & 0.0 & on & 180.0 & 0.0 & on & 400.0 & $\\dots$ \\\\\n",
       "\t13 & 12 & 880.0 & 0.0 & on & 180.0 & 0.0 & on & 420.0 & $\\dots$ \\\\\n",
       "\t14 & 13 & 875.0 & 0.0 & on & 190.0 & 0.0 & cleaning & 420.0 & $\\dots$ \\\\\n",
       "\t15 & 14 & 870.0 & 0.0 & on & 200.0 & 0.0 & cleaning & 420.0 & $\\dots$ \\\\\n",
       "\t16 & 15 & 865.0 & 0.0 & on & 210.0 & 0.0 & cleaning & 420.0 & $\\dots$ \\\\\n",
       "\\end{tabular}\n"
      ],
      "text/plain": [
       "\u001b[1m16×11 DataFrame\u001b[0m\n",
       "\u001b[1m Row \u001b[0m│\u001b[1m period \u001b[0m\u001b[1m silo1   \u001b[0m\u001b[1m slack_silo1 \u001b[0m\u001b[1m machine1 \u001b[0m\u001b[1m silo2   \u001b[0m\u001b[1m slack_silo2 \u001b[0m\u001b[1m machine2 \u001b[0m\u001b[1m\u001b[0m ⋯\n",
       "     │\u001b[90m Int64  \u001b[0m\u001b[90m Float64 \u001b[0m\u001b[90m Any         \u001b[0m\u001b[90m Any      \u001b[0m\u001b[90m Float64 \u001b[0m\u001b[90m Any         \u001b[0m\u001b[90m Any      \u001b[0m\u001b[90m\u001b[0m ⋯\n",
       "─────┼──────────────────────────────────────────────────────────────────────────\n",
       "   1 │      0    900.0                           200.0                         ⋯\n",
       "   2 │      1    895.0  0.0          on          200.0  0.0          on\n",
       "   3 │      2    890.0  0.0          on          200.0  0.0          on\n",
       "   4 │      3    890.0  0.0          cleaning    200.0  0.0          idle\n",
       "   5 │      4    890.0  0.0          cleaning    200.0  0.0          idle      ⋯\n",
       "   6 │      5    890.0  0.0          cleaning    200.0  0.0          idle\n",
       "   7 │      6    890.0  0.0          off         200.0  0.0          cleaning\n",
       "   8 │      7    890.0  0.0          off         200.0  0.0          cleaning\n",
       "   9 │      8    890.0  0.0          off         200.0  0.0          cleaning  ⋯\n",
       "  10 │      9    890.0  0.0          off         190.0  0.0          on\n",
       "  11 │     10    890.0  0.0          off         180.0  0.0          on\n",
       "  12 │     11    885.0  0.0          on          180.0  0.0          on\n",
       "  13 │     12    880.0  0.0          on          180.0  0.0          on        ⋯\n",
       "  14 │     13    875.0  0.0          on          190.0  0.0          cleaning\n",
       "  15 │     14    870.0  0.0          on          200.0  0.0          cleaning\n",
       "  16 │     15    865.0  0.0          on          210.0  0.0          cleaning\n",
       "\u001b[36m                                                               4 columns omitted\u001b[0m"
      ]
     },
     "metadata": {},
     "output_type": "display_data"
    }
   ],
   "source": [
    "headers = [\"period\", \"silo1\", \"slack_silo1\", \"machine1\", \"silo2\", \"slack_silo2\", \"machine2\", \"silo3\", \n",
    "                                \"slack_silo3\", \"cleaner1\", \"slack_cleaner1\"]\n",
    "\n",
    "format_output(𝓓, 𝓜, resource_volume, slack, x, dicts, headers)"
   ]
  }
 ],
 "metadata": {
  "kernelspec": {
   "display_name": "Julia 1.8.5",
   "language": "julia",
   "name": "julia-1.8"
  },
  "language_info": {
   "file_extension": ".jl",
   "mimetype": "application/julia",
   "name": "julia",
   "version": "1.8.5"
  },
  "orig_nbformat": 4
 },
 "nbformat": 4,
 "nbformat_minor": 2
}
