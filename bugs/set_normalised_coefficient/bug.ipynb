{
 "cells": [
  {
   "cell_type": "code",
   "execution_count": 94,
   "metadata": {},
   "outputs": [],
   "source": [
    "using JuMP, Gurobi, JSON, DataFrames\n",
    "# JuMP v1.13.0\n",
    "# Julia v1.8.5\n",
    "# Gurobi v1.0.1\n",
    "# JSON v0.21.4\n",
    "# DataFrame v1.5.0\n",
    "\n",
    "\n",
    "# This system looks like:\n",
    "# Silo1 -> Machine1 -> Silo2 -> Machine2 -> Silo3\n",
    "#       -5         +10      -10         +20\n",
    "#                 ^               ^\n",
    "#                 \\              /\n",
    "#                    cleaner1    \n",
    "\n",
    "# in this example cleaning is not relevant but all the code is still included \n",
    "# there is one cleaner and it can only clean one machine at a time\n",
    "# I've tried to simplify the model as much as possible so it should be easier to understand"
   ]
  },
  {
   "cell_type": "code",
   "execution_count": 95,
   "metadata": {},
   "outputs": [
    {
     "data": {
      "text/plain": [
       "Data(NamedTuple{(:name, :min_capacity, :max_capacity, :initial_volume, :rates, :flows, :type), Tuple{String, Int64, Int64, Int64, Vector{Any}, Vector{Any}, String}}[(name = \"silo1\", min_capacity = 0, max_capacity = 1000, initial_volume = 900, rates = [], flows = [], type = \"storage\"), (name = \"silo3\", min_capacity = 0, max_capacity = 600, initial_volume = 300, rates = [], flows = [], type = \"storage\"), (name = \"silo2\", min_capacity = 0, max_capacity = 500, initial_volume = 200, rates = [], flows = [], type = \"storage\"), (name = \"cleaner1\", min_capacity = 0, max_capacity = 1, initial_volume = 1, rates = [-1, -1], flows = [\"machine1\", \"machine2\"], type = \"renewable\")], NamedTuple{(:name, :initial_state, :initial_time, :run_time, :cleaning_time, :min_off_time, :max_off_time, :rates, :flows, :cleaner_key), Tuple{String, String, Int64, Int64, Int64, Int64, Int64, Vector{Any}, Vector{Any}, String}}[(name = \"machine2\", initial_state = \"cleaning\", initial_time = 1, run_time = 7, cleaning_time = 3, min_off_time = 0, max_off_time = 3, rates = [-10, 20], flows = [\"silo2\", \"silo3\"], cleaner_key = \"cleaner1\"), (name = \"machine1\", initial_state = \"on\", initial_time = 1, run_time = 8, cleaning_time = 3, min_off_time = 0, max_off_time = 3, rates = [-5, 10], flows = [\"silo1\", \"silo2\"], cleaner_key = \"cleaner1\")], NamedTuple{(:current_state, :next_state, :duration_type, :duration_key, :min_duration_key, :max_duration_key, :include), Tuple{String, String, String, String, String, String, Bool}}[(current_state = \"off\", next_state = \"on\", duration_type = \"random_duration\", duration_key = \"NA\", min_duration_key = \"min_off_time\", max_duration_key = \"max_off_time\", include = 0), (current_state = \"on\", next_state = \"cleaning\", duration_type = \"fixed_duration\", duration_key = \"run_time\", min_duration_key = \"NA\", max_duration_key = \"NA\", include = 1), (current_state = \"cleaning\", next_state = \"off\", duration_type = \"fixed_duration\", duration_key = \"cleaning_time\", min_duration_key = \"NA\", max_duration_key = \"NA\", include = 1)], 5)"
      ]
     },
     "metadata": {},
     "output_type": "display_data"
    }
   ],
   "source": [
    "# this code is all just reading in info from the jsons and putting them into a struct\n",
    "# code isn't relevant to the bug\n",
    "\n",
    "struct Data\n",
    "  resources\n",
    "  machines\n",
    "  states\n",
    "  periods\n",
    "end\n",
    "\n",
    "resource_data = JSON.parsefile(\"resources.json\")\n",
    "machine_data = JSON.parsefile(\"machines.json\")\n",
    "states_data = JSON.parsefile(\"states.json\")\n",
    "\n",
    "resources = [(name = resource_name,\n",
    "          min_capacity = resource_data[\"min_capacity\"],\n",
    "          max_capacity = resource_data[\"max_capacity\"],\n",
    "          initial_volume = resource_data[\"initial_volume\"],\n",
    "          rates = resource_data[\"rates\"],\n",
    "          flows = resource_data[\"flows\"],\n",
    "          type = resource_data[\"type\"])\n",
    "          for (resource_name, resource_data) in resource_data]\n",
    "\n",
    "machines = [(name = machine_name,\n",
    "             initial_state = machine_data[\"initial_state\"],\n",
    "             initial_time = machine_data[\"initial_time\"],\n",
    "             run_time = machine_data[\"run_time\"],\n",
    "             cleaning_time = machine_data[\"cleaning_time\"],\n",
    "             min_off_time = machine_data[\"min_off_time\"],\n",
    "             max_off_time = machine_data[\"max_off_time\"],\n",
    "             rates = machine_data[\"rates\"],\n",
    "             flows = machine_data[\"flows\"],\n",
    "             cleaner_key = get(machine_data, \"cleaner_key\", \"NA\"))\n",
    "             for (machine_name, machine_data) in machine_data]\n",
    "\n",
    "states = [(current_state = current_state,\n",
    "              next_state = state_data[\"next_state\"],\n",
    "              duration_type = state_data[\"duration_type\"],\n",
    "              duration_key = get(state_data, \"duration_key\", \"NA\"),\n",
    "              min_duration_key = get(state_data, \"min_duration_key\", \"NA\"),\n",
    "              max_duration_key = get(state_data, \"max_duration_key\", \"NA\"),\n",
    "              include = state_data[\"include\"]) \n",
    "              for (current_state, state_data) in states_data]\n",
    "\n",
    "𝓓 = Data(resources, machines, states, 5)"
   ]
  },
  {
   "cell_type": "code",
   "execution_count": 96,
   "metadata": {},
   "outputs": [
    {
     "data": {
      "text/plain": [
       "Dict{Any, Any} with 2 entries:\n",
       "  (\"machine1\", 1) => [\"on\", \"on\", \"on\", \"on\", \"on\"]\n",
       "  (\"machine2\", 1) => [\"on\", \"on\", \"on\", \"on\", \"on\"]"
      ]
     },
     "metadata": {},
     "output_type": "display_data"
    }
   ],
   "source": [
    "# I am \"generating\" a schedule for each machine (for our example they are hard coded for reproducability)\n",
    "\n",
    "itteration = 1\n",
    "schedules_dict = Dict()\n",
    "schedules_dict[\"machine1\", itteration] = [\"on\", \"on\", \"on\", \"on\", \"on\"]\n",
    "schedules_dict[\"machine2\", itteration] = [\"on\", \"on\", \"on\", \"on\", \"on\"]\n",
    "schedules_dict"
   ]
  },
  {
   "cell_type": "code",
   "execution_count": 97,
   "metadata": {},
   "outputs": [
    {
     "name": "stdout",
     "output_type": "stream",
     "text": [
      "Set parameter Username\r\n",
      "Academic license - for non-commercial use only - expires 2024-05-07\r\n"
     ]
    }
   ],
   "source": [
    "𝓜 = Model(Gurobi.Optimizer)\n",
    "\n",
    "# binary variable to select which schedule to use\n",
    "x = Dict{String, Vector{VariableRef}}(\n",
    "  d.name => @variable(𝓜, [1:1], binary = true, base_name = \"$(d.name)\")\n",
    "  for d in 𝓓.machines\n",
    ")\n",
    "\n",
    "# Variable to track resource volume\n",
    "@variable(𝓜, resource_volume[p in 0:𝓓.periods, [r.name for r in 𝓓.resources]])\n",
    "\n",
    "# Constraint to ensure solver picks a schedule value, because selecting nothing is always feasible\n",
    "GUB_dict = Dict(m.name => @constraint(𝓜, sum(x[m.name][1]) == 1) for m in 𝓓.machines)\n",
    "\n",
    "# initial resource volume constraint\n",
    "for r in 𝓓.resources\n",
    "  @constraint(𝓜, resource_volume[0, r.name] == r.initial_volume)\n",
    "end\n",
    "\n",
    "# resource volume constraint for each time period below\n",
    "#\n",
    "# I am building an expresion that represents the rate of change each a resource experiences at a given time\n",
    "# according to the machines that interact with it\n",
    "resource_volume_con_dict = Dict()\n",
    "resource_volume_expr_dict = Dict()\n",
    "for p in 1:𝓓.periods, r in 𝓓.resources\n",
    "  rate_expression = AffExpr()\n",
    "\n",
    "  for m in 𝓓.machines\n",
    "    machine_activity = schedules_dict[m.name, 1][p]\n",
    "            \n",
    "    if r.name in m.flows && machine_activity == \"on\"\n",
    "      index = findfirst(x -> x == r.name, m.flows)\n",
    "      add_to_expression!(rate_expression, m.rates[index], x[m.name][1])\n",
    "\n",
    "    elseif  r.name == m.cleaner_key && machine_activity == \"cleaning\"\n",
    "      index = findfirst(x -> x == m.name, r.flows)\n",
    "      add_to_expression!(rate_expression, r.rates[index], x[m.name][1])\n",
    "    end\n",
    "  end\n",
    "\n",
    "  # after building the rate expression I build the constraint that represent how the resource volume\n",
    "  # changes over time depending on the type of resource it is\n",
    "  # at the moment we are storing the rate expression in a dict for a workaround to the bug\n",
    "  if r.type == \"storage\"\n",
    "    resource_volume_con_dict[p, r.name] = @constraint(𝓜, resource_volume[p, r.name] - resource_volume[p-1, r.name] - rate_expression == 0)\n",
    "    resource_volume_expr_dict[p, r.name] = rate_expression\n",
    "  end\n",
    "\n",
    "  if r.type == \"renewable\"\n",
    "    resource_volume_con_dict[p, r.name] = @constraint(𝓜, resource_volume[p, r.name] - r.max_capacity - rate_expression == 0)\n",
    "    resource_volume_expr_dict[p, r.name] = rate_expression\n",
    "  end\n",
    "end"
   ]
  },
  {
   "cell_type": "code",
   "execution_count": 98,
   "metadata": {},
   "outputs": [
    {
     "name": "stdout",
     "output_type": "stream",
     "text": [
      "Feasibility\n",
      "Subject to\n",
      " machine2[1] == 1\n",
      " machine1[1] == 1\n",
      " resource_volume[0,silo1] == 900\n",
      " resource_volume[0,silo3] == 300\n",
      " resource_volume[0,silo2] == 200\n",
      " resource_volume[0,cleaner1] == 1\n",
      " 5 machine1[1] - resource_volume[0,silo1] + resource_volume[1,silo1] == 0\n",
      " -20 machine2[1] - resource_volume[0,silo3] + resource_volume[1,silo3] == 0\n",
      " 10 machine2[1] - 10 machine1[1] - resource_volume[0,silo2] + resource_volume[1,silo2] == 0\n",
      " resource_volume[1,cleaner1] == 1\n",
      " 5 machine1[1] - resource_volume[1,silo1] + resource_volume[2,silo1] == 0\n",
      " -20 machine2[1] - resource_volume[1,silo3] + resource_volume[2,silo3] == 0\n",
      " 10 machine2[1] - 10 machine1[1] - resource_volume[1,silo2] + resource_volume[2,silo2] == 0\n",
      " resource_volume[2,cleaner1] == 1\n",
      " 5 machine1[1] - resource_volume[2,silo1] + resource_volume[3,silo1] == 0\n",
      " -20 machine2[1] - resource_volume[2,silo3] + resource_volume[3,silo3] == 0\n",
      " 10 machine2[1] - 10 machine1[1] - resource_volume[2,silo2] + resource_volume[3,silo2] == 0\n",
      " resource_volume[3,cleaner1] == 1\n",
      " 5 machine1[1] - resource_volume[3,silo1] + resource_volume[4,silo1] == 0\n",
      " -20 machine2[1] - resource_volume[3,silo3] + resource_volume[4,silo3] == 0\n",
      " 10 machine2[1] - 10 machine1[1] - resource_volume[3,silo2] + resource_volume[4,silo2] == 0\n",
      " resource_volume[4,cleaner1] == 1\n",
      " 5 machine1[1] - resource_volume[4,silo1] + resource_volume[5,silo1] == 0\n",
      " -20 machine2[1] - resource_volume[4,silo3] + resource_volume[5,silo3] == 0\n",
      " 10 machine2[1] - 10 machine1[1] - resource_volume[4,silo2] + resource_volume[5,silo2] == 0\n",
      " resource_volume[5,cleaner1] == 1\n",
      " machine2[1] binary\n",
      " machine1[1] binary\n"
     ]
    }
   ],
   "source": [
    "# These are normalised constraints it is easier to think of it like:\n",
    "# resource_volume[1,silo1] == resource_volume[0,silo1] -5*machine1[1]\n",
    "# current_time_volume = previous_time_volume + rate_of_change_at_current_time*relevant_schedules_binary_variable\n",
    "print(𝓜)"
   ]
  },
  {
   "cell_type": "code",
   "execution_count": 99,
   "metadata": {},
   "outputs": [
    {
     "name": "stdout",
     "output_type": "stream",
     "text": [
      "Gurobi Optimizer version 10.0.1 build v10.0.1rc0 (win64)\r\n",
      "\r\n",
      "CPU model: 11th Gen Intel(R) Core(TM) i5-1135G7 @ 2.40GHz, instruction set [SSE2|AVX|AVX2|AVX512]\r\n",
      "Thread count: 4 physical cores, 8 logical processors, using up to 8 threads\r\n",
      "\r\n",
      "Optimize a model with 26 rows, 26 columns and 61 nonzeros\r\n",
      "Model fingerprint: 0x36ccc6bf\r\n",
      "Variable types: 24 continuous, 2 integer (2 binary)\r\n",
      "Coefficient statistics:\r\n",
      "  Matrix range     [1e+00, 2e+01]\r\n",
      "  Objective range  [0e+00, 0e+00]\r\n",
      "  Bounds range     [0e+00, 0e+00]\r\n",
      "  RHS range        [1e+00, 9e+02]\r\n",
      "Presolve removed 26 rows and 26 columns\r\n",
      "Presolve time: 0.00s\r\n",
      "Presolve: All rows and columns removed\r\n",
      "\r\n",
      "Explored 0 nodes (0 simplex iterations) in 0.00 seconds (0.00 work units)\r\n",
      "Thread count was 1 (of 8 available processors)\r\n",
      "\r\n",
      "Solution count 1: 0 \r\n",
      "\r\n",
      "Optimal solution found (tolerance 1.00e-04)\r\n",
      "Best objective 0.000000000000e+00, best bound 0.000000000000e+00, gap 0.0000%\r\n",
      "\r\n",
      "User-callback calls 121, time in user-callback 0.00 sec\r\n",
      "OPTIMAL\n"
     ]
    }
   ],
   "source": [
    "optimize!(𝓜)\n",
    "println(termination_status(𝓜))"
   ]
  },
  {
   "cell_type": "code",
   "execution_count": 100,
   "metadata": {},
   "outputs": [
    {
     "data": {
      "text/html": [
       "<div><div style = \"float: left;\"><span>5×7 DataFrame</span></div><div style = \"clear: both;\"></div></div><div class = \"data-frame\" style = \"overflow-x: scroll;\"><table class = \"data-frame\" style = \"margin-bottom: 6px;\"><thead><tr class = \"header\"><th class = \"rowNumber\" style = \"font-weight: bold; text-align: right;\">Row</th><th style = \"text-align: left;\">period</th><th style = \"text-align: left;\">silo1</th><th style = \"text-align: left;\">machine1</th><th style = \"text-align: left;\">silo2</th><th style = \"text-align: left;\">machine2</th><th style = \"text-align: left;\">silo3</th><th style = \"text-align: left;\">cleaner1</th></tr><tr class = \"subheader headerLastRow\"><th class = \"rowNumber\" style = \"font-weight: bold; text-align: right;\"></th><th title = \"Any\" style = \"text-align: left;\">Any</th><th title = \"Any\" style = \"text-align: left;\">Any</th><th title = \"Any\" style = \"text-align: left;\">Any</th><th title = \"Any\" style = \"text-align: left;\">Any</th><th title = \"Any\" style = \"text-align: left;\">Any</th><th title = \"Any\" style = \"text-align: left;\">Any</th><th title = \"Any\" style = \"text-align: left;\">Any</th></tr></thead><tbody><tr><td class = \"rowNumber\" style = \"font-weight: bold; text-align: right;\">1</td><td style = \"text-align: left;\">1</td><td style = \"text-align: left;\">895.0</td><td style = \"text-align: left;\">on</td><td style = \"text-align: left;\">200.0</td><td style = \"text-align: left;\">on</td><td style = \"text-align: left;\">320.0</td><td style = \"text-align: left;\">1.0</td></tr><tr><td class = \"rowNumber\" style = \"font-weight: bold; text-align: right;\">2</td><td style = \"text-align: left;\">2</td><td style = \"text-align: left;\">890.0</td><td style = \"text-align: left;\">on</td><td style = \"text-align: left;\">200.0</td><td style = \"text-align: left;\">on</td><td style = \"text-align: left;\">340.0</td><td style = \"text-align: left;\">1.0</td></tr><tr><td class = \"rowNumber\" style = \"font-weight: bold; text-align: right;\">3</td><td style = \"text-align: left;\">3</td><td style = \"text-align: left;\">885.0</td><td style = \"text-align: left;\">on</td><td style = \"text-align: left;\">200.0</td><td style = \"text-align: left;\">on</td><td style = \"text-align: left;\">360.0</td><td style = \"text-align: left;\">1.0</td></tr><tr><td class = \"rowNumber\" style = \"font-weight: bold; text-align: right;\">4</td><td style = \"text-align: left;\">4</td><td style = \"text-align: left;\">880.0</td><td style = \"text-align: left;\">on</td><td style = \"text-align: left;\">200.0</td><td style = \"text-align: left;\">on</td><td style = \"text-align: left;\">380.0</td><td style = \"text-align: left;\">1.0</td></tr><tr><td class = \"rowNumber\" style = \"font-weight: bold; text-align: right;\">5</td><td style = \"text-align: left;\">5</td><td style = \"text-align: left;\">875.0</td><td style = \"text-align: left;\">on</td><td style = \"text-align: left;\">200.0</td><td style = \"text-align: left;\">on</td><td style = \"text-align: left;\">400.0</td><td style = \"text-align: left;\">1.0</td></tr></tbody></table></div>"
      ],
      "text/latex": [
       "\\begin{tabular}{r|ccccccc}\n",
       "\t& period & silo1 & machine1 & silo2 & machine2 & silo3 & cleaner1\\\\\n",
       "\t\\hline\n",
       "\t& Any & Any & Any & Any & Any & Any & Any\\\\\n",
       "\t\\hline\n",
       "\t1 & 1 & 895.0 & on & 200.0 & on & 320.0 & 1.0 \\\\\n",
       "\t2 & 2 & 890.0 & on & 200.0 & on & 340.0 & 1.0 \\\\\n",
       "\t3 & 3 & 885.0 & on & 200.0 & on & 360.0 & 1.0 \\\\\n",
       "\t4 & 4 & 880.0 & on & 200.0 & on & 380.0 & 1.0 \\\\\n",
       "\t5 & 5 & 875.0 & on & 200.0 & on & 400.0 & 1.0 \\\\\n",
       "\\end{tabular}\n"
      ],
      "text/plain": [
       "\u001b[1m5×7 DataFrame\u001b[0m\n",
       "\u001b[1m Row \u001b[0m│\u001b[1m period \u001b[0m\u001b[1m silo1 \u001b[0m\u001b[1m machine1 \u001b[0m\u001b[1m silo2 \u001b[0m\u001b[1m machine2 \u001b[0m\u001b[1m silo3 \u001b[0m\u001b[1m cleaner1 \u001b[0m\n",
       "     │\u001b[90m Any    \u001b[0m\u001b[90m Any   \u001b[0m\u001b[90m Any      \u001b[0m\u001b[90m Any   \u001b[0m\u001b[90m Any      \u001b[0m\u001b[90m Any   \u001b[0m\u001b[90m Any      \u001b[0m\n",
       "─────┼───────────────────────────────────────────────────────────\n",
       "   1 │ 1       895.0  on        200.0  on        320.0  1.0\n",
       "   2 │ 2       890.0  on        200.0  on        340.0  1.0\n",
       "   3 │ 3       885.0  on        200.0  on        360.0  1.0\n",
       "   4 │ 4       880.0  on        200.0  on        380.0  1.0\n",
       "   5 │ 5       875.0  on        200.0  on        400.0  1.0"
      ]
     },
     "metadata": {},
     "output_type": "display_data"
    }
   ],
   "source": [
    "# Code to figure out which schedule (binary varible) was selected for each machine\n",
    "# none of this is relevant to the bug but nice to visualise what is going on\n",
    "selected_schedule = Dict{String, Int64}()\n",
    "for m in 𝓓.machines\n",
    "    for i in 1:length(x[m.name])\n",
    "      if value(x[m.name][i]) == 1\n",
    "          selected_schedule[m.name] = i\n",
    "      end\n",
    "    end\n",
    "end\n",
    "     \n",
    "df = DataFrame(period=[], silo1=[], machine1=[],  silo2=[], machine2=[], silo3=[], cleaner1 = [])\n",
    "for p in 1:𝓓.periods\n",
    "    push!(df, [p, value(resource_volume[p, \"silo1\"]), schedules_dict[\"machine1\", selected_schedule[\"machine1\"]][p], value(resource_volume[p, \"silo2\"]), schedules_dict[\"machine2\", selected_schedule[\"machine2\"]][p], value(resource_volume[p, \"silo3\"]), value(resource_volume[p, \"cleaner1\"])])\n",
    "end\n",
    "display(df)"
   ]
  },
  {
   "cell_type": "code",
   "execution_count": 101,
   "metadata": {},
   "outputs": [
    {
     "data": {
      "text/plain": [
       "Dict{Any, Any} with 4 entries:\n",
       "  (\"machine2\", 2) => [\"on\", \"on\", \"on\", \"on\", \"on\"]\n",
       "  (\"machine1\", 2) => [\"on\", \"on\", \"on\", \"on\", \"on\"]\n",
       "  (\"machine1\", 1) => [\"on\", \"on\", \"on\", \"on\", \"on\"]\n",
       "  (\"machine2\", 1) => [\"on\", \"on\", \"on\", \"on\", \"on\"]"
      ]
     },
     "metadata": {},
     "output_type": "display_data"
    }
   ],
   "source": [
    "# the above output is what we expect to see\n",
    "# I am adding the exact same schedule just to illustrate the bug\n",
    "\n",
    "itteration = 2\n",
    "schedules_dict[\"machine1\", itteration] = [\"on\", \"on\", \"on\", \"on\", \"on\"]\n",
    "schedules_dict[\"machine2\", itteration] = [\"on\", \"on\", \"on\", \"on\", \"on\"]\n",
    "schedules_dict"
   ]
  },
  {
   "cell_type": "code",
   "execution_count": 102,
   "metadata": {},
   "outputs": [],
   "source": [
    "# this is where the bug is encountered. What is happening here is we create a new binary variable for each machine\n",
    "# that represents a new schedule (in our example the exact same schedule) \n",
    "\n",
    "# if I use set_normalized_coefficient to update the model then the bug is encountered\n",
    "# The bug is the coefficents associated with the new binary variables are applied to the wrong constraint on solve\n",
    "# if you look at the model before solve everything looks like it should \n",
    "# but after solve it seems like the coefficents (rates) are applied to the wrong constraint (resource)\n",
    "\n",
    "# our current workaround is to just delete the constraint and re-add it \n",
    "# we are using dictionaries to find the correct constraint reference and expression that represent the constraint\n",
    "\n",
    "\n",
    "itteration = 2\n",
    "force_this_schedule = true # special gub constraint to force our new schedule (binary variable) to be selected\n",
    "bug = true # boolean to use the buggy method or the workaround\n",
    "\n",
    "# create a new binary variable that represents a schedule for each machine\n",
    "for m in 𝓓.machines\n",
    "    push!(x[m.name], @variable(𝓜, [[itteration]], binary = true, base_name = \"$(m.name)\")[itteration])\n",
    "end\n",
    "\n",
    "# Update GUB constraint\n",
    "for m in 𝓓.machines\n",
    "  # delete old GUB constraint\n",
    "  delete(𝓜, GUB_dict[m.name])\n",
    "  GUB_dict[m.name] = @constraint(𝓜, sum(x[m.name][1:itteration]) == 1)\n",
    "\n",
    "  # our special GUB const to force this schedule to be selected\n",
    "  force_this_schedule ? @constraint(𝓜, sum(x[m.name][itteration]) == 1) : nothing\n",
    "end\n",
    "\n",
    "# Update resource volume constraint\n",
    "for p in 1:𝓓.periods, r in 𝓓.resources\n",
    "  rate_expression = resource_volume_expr_dict[p, r.name]\n",
    "\n",
    "  for m in 𝓓.machines\n",
    "    machine_activity = schedules_dict[m.name, itteration][p]\n",
    "          \n",
    "    if r.name in m.flows && machine_activity == \"on\"\n",
    "      index = findfirst(x -> x == r.name, m.flows)\n",
    "      if !bug\n",
    "        add_to_expression!(rate_expression, m.rates[index], x[m.name][itteration])\n",
    "      else\n",
    "        # This is the where I think the source of the bug is\n",
    "        set_normalized_coefficient(resource_volume_con_dict[p, r.name], x[m.name][itteration], -m.rates[index])\n",
    "      end\n",
    "\n",
    "    elseif  r.name == m.cleaner_key && machine_activity == \"cleaning\"\n",
    "      index = findfirst(x -> x == m.name, r.flows)\n",
    "      if !bug\n",
    "        add_to_expression!(rate_expression, r.rates[index], x[m.name][itteration])\n",
    "      else\n",
    "        # This is the where I think the source of the bug is\n",
    "        set_normalized_coefficient(resource_volume_con_dict[p, r.name], x[m.name][itteration], -r.rates[index])\n",
    "      end\n",
    "    end\n",
    "  end\n",
    "\n",
    "  # This code is not relevant to the bug but needed for our workaround\n",
    "  if r.type == \"storage\" && !bug\n",
    "    delete(𝓜, resource_volume_con_dict[p, r.name])\n",
    "    resource_volume_con_dict[p, r.name] = @constraint(𝓜, resource_volume[p, r.name] - resource_volume[p-1, r.name] - rate_expression == 0)\n",
    "    resource_volume_expr_dict[p, r.name] = rate_expression\n",
    "\n",
    "  elseif r.type == \"renewable\" && !bug\n",
    "    delete(𝓜, resource_volume_con_dict[p, r.name])\n",
    "    resource_volume_con_dict[p, r.name] = @constraint(𝓜, resource_volume[p, r.name] - r.max_capacity - rate_expression == 0)\n",
    "    resource_volume_expr_dict[p, r.name] = rate_expression\n",
    "  end\n",
    "end\n"
   ]
  },
  {
   "cell_type": "code",
   "execution_count": 103,
   "metadata": {},
   "outputs": [],
   "source": [
    "# investigating the .lp files for both methods (bug or workaround) the model seems to be almost identical\n",
    "# the only difference I can notice is the ordering \n",
    "bug ? write_to_file(𝓜, \"bug.lp\") : write_to_file(𝓜, \"normal.lp\")"
   ]
  },
  {
   "cell_type": "code",
   "execution_count": 104,
   "metadata": {},
   "outputs": [
    {
     "name": "stdout",
     "output_type": "stream",
     "text": [
      "Gurobi Optimizer version 10.0.1 build v10.0.1rc0 (win64)\r\n",
      "\r\n",
      "CPU model: 11th Gen Intel(R) Core(TM) i5-1135G7 @ 2.40GHz, instruction set [SSE2|AVX|AVX2|AVX512]\r\n",
      "Thread count: 4 physical cores, 8 logical processors, using up to 8 threads\r\n",
      "\r\n",
      "Optimize a model with 28 rows, 28 columns and 85 nonzeros\r\n",
      "Model fingerprint: 0x12fa0fc4\r\n",
      "Variable types: 24 continuous, 4 integer (4 binary)\r\n",
      "Coefficient statistics:\r\n",
      "  Matrix range     [1e+00, 2e+01]\r\n",
      "  Objective range  [0e+00, 0e+00]\r\n",
      "  Bounds range     [0e+00, 0e+00]\r\n",
      "  RHS range        [1e+00, 9e+02]\r\n",
      "\r\n",
      "MIP start from previous solve did not produce a new incumbent solution\r\n",
      "\r\n",
      "Presolve removed 28 rows and 28 columns\r\n",
      "Presolve time: 0.00s\r\n",
      "Presolve: All rows and columns removed\r\n",
      "\r\n",
      "Explored 0 nodes (0 simplex iterations) in 0.00 seconds (0.00 work units)\r\n",
      "Thread count was 1 (of 8 available processors)\r\n",
      "\r\n",
      "Solution count 1: 0 \r\n",
      "\r\n",
      "Optimal solution found (tolerance 1.00e-04)\r\n",
      "Best objective 0.000000000000e+00, best bound 0.000000000000e+00, gap 0.0000%\r\n",
      "\r\n",
      "User-callback calls 153, time in user-callback 0.00 sec\r\n",
      "OPTIMAL\n"
     ]
    }
   ],
   "source": [
    "optimize!(𝓜)\n",
    "println(termination_status(𝓜))"
   ]
  },
  {
   "cell_type": "code",
   "execution_count": 105,
   "metadata": {},
   "outputs": [
    {
     "name": "stdout",
     "output_type": "stream",
     "text": [
      "Feasibility\n",
      "Subject to\n",
      " resource_volume[0,silo1] == 900\n",
      " resource_volume[0,silo3] == 300\n",
      " resource_volume[0,silo2] == 200\n",
      " resource_volume[0,cleaner1] == 1\n",
      " 5 machine1[1] - resource_volume[0,silo1] + resource_volume[1,silo1] + 5 machine1[2] == 0\n",
      " -20 machine2[1] - resource_volume[0,silo3] + resource_volume[1,silo3] - 20 machine2[2] == 0\n",
      " 10 machine2[1] - 10 machine1[1] - resource_volume[0,silo2] + resource_volume[1,silo2] + 10 machine2[2] - 10 machine1[2] == 0\n",
      " resource_volume[1,cleaner1] == 1\n",
      " 5 machine1[1] - resource_volume[1,silo1] + resource_volume[2,silo1] + 5 machine1[2] == 0\n",
      " -20 machine2[1] - resource_volume[1,silo3] + resource_volume[2,silo3] - 20 machine2[2] == 0\n",
      " 10 machine2[1] - 10 machine1[1] - resource_volume[1,silo2] + resource_volume[2,silo2] + 10 machine2[2] - 10 machine1[2] == 0\n",
      " resource_volume[2,cleaner1] == 1\n",
      " 5 machine1[1] - resource_volume[2,silo1] + resource_volume[3,silo1] + 5 machine1[2] == 0\n",
      " -20 machine2[1] - resource_volume[2,silo3] + resource_volume[3,silo3] - 20 machine2[2] == 0\n",
      " 10 machine2[1] - 10 machine1[1] - resource_volume[2,silo2] + resource_volume[3,silo2] + 10 machine2[2] - 10 machine1[2] == 0\n",
      " resource_volume[3,cleaner1] == 1\n",
      " 5 machine1[1] - resource_volume[3,silo1] + resource_volume[4,silo1] + 5 machine1[2] == 0\n",
      " -20 machine2[1] - resource_volume[3,silo3] + resource_volume[4,silo3] - 20 machine2[2] == 0\n",
      " 10 machine2[1] - 10 machine1[1] - resource_volume[3,silo2] + resource_volume[4,silo2] + 10 machine2[2] - 10 machine1[2] == 0\n",
      " resource_volume[4,cleaner1] == 1\n",
      " 5 machine1[1] - resource_volume[4,silo1] + resource_volume[5,silo1] + 5 machine1[2] == 0\n",
      " -20 machine2[1] - resource_volume[4,silo3] + resource_volume[5,silo3] - 20 machine2[2] == 0\n",
      " 10 machine2[1] - 10 machine1[1] - resource_volume[4,silo2] + resource_volume[5,silo2] + 10 machine2[2] - 10 machine1[2] == 0\n",
      " resource_volume[5,cleaner1] == 1\n",
      " machine2[1] + machine2[2] == 1\n",
      " machine2[2] == 1\n",
      " machine1[1] + machine1[2] == 1\n",
      " machine1[2] == 1\n",
      " machine2[1] binary\n",
      " machine1[1] binary\n",
      " machine2[2] binary\n",
      " machine1[2] binary\n"
     ]
    }
   ],
   "source": [
    "# These constraint are what we expect to see (no matter whether we choose buggy method or not)\n",
    "print(𝓜)"
   ]
  },
  {
   "cell_type": "code",
   "execution_count": 106,
   "metadata": {},
   "outputs": [
    {
     "data": {
      "text/html": [
       "<div><div style = \"float: left;\"><span>5×7 DataFrame</span></div><div style = \"clear: both;\"></div></div><div class = \"data-frame\" style = \"overflow-x: scroll;\"><table class = \"data-frame\" style = \"margin-bottom: 6px;\"><thead><tr class = \"header\"><th class = \"rowNumber\" style = \"font-weight: bold; text-align: right;\">Row</th><th style = \"text-align: left;\">period</th><th style = \"text-align: left;\">silo1</th><th style = \"text-align: left;\">machine1</th><th style = \"text-align: left;\">silo2</th><th style = \"text-align: left;\">machine2</th><th style = \"text-align: left;\">silo3</th><th style = \"text-align: left;\">cleaner1</th></tr><tr class = \"subheader headerLastRow\"><th class = \"rowNumber\" style = \"font-weight: bold; text-align: right;\"></th><th title = \"Any\" style = \"text-align: left;\">Any</th><th title = \"Any\" style = \"text-align: left;\">Any</th><th title = \"Any\" style = \"text-align: left;\">Any</th><th title = \"Any\" style = \"text-align: left;\">Any</th><th title = \"Any\" style = \"text-align: left;\">Any</th><th title = \"Any\" style = \"text-align: left;\">Any</th><th title = \"Any\" style = \"text-align: left;\">Any</th></tr></thead><tbody><tr><td class = \"rowNumber\" style = \"font-weight: bold; text-align: right;\">1</td><td style = \"text-align: left;\">1</td><td style = \"text-align: left;\">920.0</td><td style = \"text-align: left;\">on</td><td style = \"text-align: left;\">200.0</td><td style = \"text-align: left;\">on</td><td style = \"text-align: left;\">300.0</td><td style = \"text-align: left;\">-4.0</td></tr><tr><td class = \"rowNumber\" style = \"font-weight: bold; text-align: right;\">2</td><td style = \"text-align: left;\">2</td><td style = \"text-align: left;\">940.0</td><td style = \"text-align: left;\">on</td><td style = \"text-align: left;\">200.0</td><td style = \"text-align: left;\">on</td><td style = \"text-align: left;\">300.0</td><td style = \"text-align: left;\">-4.0</td></tr><tr><td class = \"rowNumber\" style = \"font-weight: bold; text-align: right;\">3</td><td style = \"text-align: left;\">3</td><td style = \"text-align: left;\">960.0</td><td style = \"text-align: left;\">on</td><td style = \"text-align: left;\">200.0</td><td style = \"text-align: left;\">on</td><td style = \"text-align: left;\">300.0</td><td style = \"text-align: left;\">-4.0</td></tr><tr><td class = \"rowNumber\" style = \"font-weight: bold; text-align: right;\">4</td><td style = \"text-align: left;\">4</td><td style = \"text-align: left;\">980.0</td><td style = \"text-align: left;\">on</td><td style = \"text-align: left;\">200.0</td><td style = \"text-align: left;\">on</td><td style = \"text-align: left;\">300.0</td><td style = \"text-align: left;\">-4.0</td></tr><tr><td class = \"rowNumber\" style = \"font-weight: bold; text-align: right;\">5</td><td style = \"text-align: left;\">5</td><td style = \"text-align: left;\">1000.0</td><td style = \"text-align: left;\">on</td><td style = \"text-align: left;\">200.0</td><td style = \"text-align: left;\">on</td><td style = \"text-align: left;\">300.0</td><td style = \"text-align: left;\">1.0</td></tr></tbody></table></div>"
      ],
      "text/latex": [
       "\\begin{tabular}{r|ccccccc}\n",
       "\t& period & silo1 & machine1 & silo2 & machine2 & silo3 & cleaner1\\\\\n",
       "\t\\hline\n",
       "\t& Any & Any & Any & Any & Any & Any & Any\\\\\n",
       "\t\\hline\n",
       "\t1 & 1 & 920.0 & on & 200.0 & on & 300.0 & -4.0 \\\\\n",
       "\t2 & 2 & 940.0 & on & 200.0 & on & 300.0 & -4.0 \\\\\n",
       "\t3 & 3 & 960.0 & on & 200.0 & on & 300.0 & -4.0 \\\\\n",
       "\t4 & 4 & 980.0 & on & 200.0 & on & 300.0 & -4.0 \\\\\n",
       "\t5 & 5 & 1000.0 & on & 200.0 & on & 300.0 & 1.0 \\\\\n",
       "\\end{tabular}\n"
      ],
      "text/plain": [
       "\u001b[1m5×7 DataFrame\u001b[0m\n",
       "\u001b[1m Row \u001b[0m│\u001b[1m period \u001b[0m\u001b[1m silo1  \u001b[0m\u001b[1m machine1 \u001b[0m\u001b[1m silo2 \u001b[0m\u001b[1m machine2 \u001b[0m\u001b[1m silo3 \u001b[0m\u001b[1m cleaner1 \u001b[0m\n",
       "     │\u001b[90m Any    \u001b[0m\u001b[90m Any    \u001b[0m\u001b[90m Any      \u001b[0m\u001b[90m Any   \u001b[0m\u001b[90m Any      \u001b[0m\u001b[90m Any   \u001b[0m\u001b[90m Any      \u001b[0m\n",
       "─────┼────────────────────────────────────────────────────────────\n",
       "   1 │ 1       920.0   on        200.0  on        300.0  -4.0\n",
       "   2 │ 2       940.0   on        200.0  on        300.0  -4.0\n",
       "   3 │ 3       960.0   on        200.0  on        300.0  -4.0\n",
       "   4 │ 4       980.0   on        200.0  on        300.0  -4.0\n",
       "   5 │ 5       1000.0  on        200.0  on        300.0  1.0"
      ]
     },
     "metadata": {},
     "output_type": "display_data"
    }
   ],
   "source": [
    "# Here is the symptom of bug\n",
    "# Looking at silo1 it is increasing by 20 each time period but if we read the constraint that should not be possible\n",
    "# it's weird in that the +20 comes from the rate that should be being applied to silo3 according to the constraints\n",
    "\n",
    "# Same goes for the cleaner, the -5 that should be being applied to silo1 is being applied to cleaner1\n",
    "# Also looking at the cleaner constraints e.g.\n",
    "# resource_volume[1,cleaner1] == 1\n",
    "# resource_volume[2,cleaner1] == 1\n",
    "# resource_volume[3,cleaner1] == 1\n",
    "# resource_volume[4,cleaner1] == 1\n",
    "# these constraint are very obviously being violated as seen in the below dataframe (as indicated by the -4)\n",
    "\n",
    "# Code to figure out which schedule was selected \n",
    "for m in 𝓓.machines\n",
    "    for i in 1:length(x[m.name])\n",
    "      if value(x[m.name][i]) == 1\n",
    "          selected_schedule[m.name] = i\n",
    "      end\n",
    "    end\n",
    "end\n",
    "     \n",
    "df = DataFrame(period=[], silo1=[], machine1=[],  silo2=[], machine2=[], silo3=[], cleaner1 = [])\n",
    "for p in 1:𝓓.periods\n",
    "    push!(df, [p, value(resource_volume[p, \"silo1\"]), schedules_dict[\"machine1\", selected_schedule[\"machine1\"]][p], value(resource_volume[p, \"silo2\"]), schedules_dict[\"machine2\", selected_schedule[\"machine2\"]][p], value(resource_volume[p, \"silo3\"]), value(resource_volume[p, \"cleaner1\"])])\n",
    "end\n",
    "display(df)\n",
    "\n",
    "# Also bear in mind that this should look like the previous itteration if everything is working correctly "
   ]
  }
 ],
 "metadata": {
  "kernelspec": {
   "display_name": "Julia 1.8.5",
   "language": "julia",
   "name": "julia-1.8"
  },
  "language_info": {
   "file_extension": ".jl",
   "mimetype": "application/julia",
   "name": "julia",
   "version": "1.8.5"
  },
  "orig_nbformat": 4
 },
 "nbformat": 4,
 "nbformat_minor": 2
}
